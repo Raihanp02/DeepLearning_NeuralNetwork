{
 "cells": [
  {
   "cell_type": "markdown",
   "metadata": {},
   "source": [
    "# Practical example. Audiobooks"
   ]
  },
  {
   "cell_type": "markdown",
   "metadata": {},
   "source": [
    "## Create the machine learning algorithm\n",
    "\n"
   ]
  },
  {
   "cell_type": "markdown",
   "metadata": {},
   "source": [
    "### Import the relevant libraries"
   ]
  },
  {
   "cell_type": "code",
   "execution_count": 1,
   "metadata": {},
   "outputs": [],
   "source": [
    "# we must import the libraries once again since we haven't imported them in this file\n",
    "import numpy as np\n",
    "import tensorflow as tf"
   ]
  },
  {
   "cell_type": "markdown",
   "metadata": {},
   "source": [
    "### Data"
   ]
  },
  {
   "cell_type": "code",
   "execution_count": 5,
   "metadata": {},
   "outputs": [],
   "source": [
    "# let's create a temporary variable npz, where we will store each of the three Audiobooks datasets\n",
    "npz = np.load('Audiobooks_data_train.npz')\n",
    "\n",
    "# we extract the inputs using the keyword under which we saved them\n",
    "# to ensure that they are all floats, let's also take care of that\n",
    "train_inputs = npz['inputs'].astype(np.float64)\n",
    "# targets must be int because of sparse_categorical_crossentropy (we want to be able to smoothly one-hot encode them)\n",
    "train_targets = npz['targets'].astype(np.int64)\n",
    "\n",
    "# we load the validation data in the temporary variable\n",
    "npz = np.load('Audiobooks_data_validation.npz')\n",
    "# we can load the inputs and the targets in the same line\n",
    "validation_inputs, validation_targets = npz['inputs'].astype(np.float64), npz['targets'].astype(np.int64)\n",
    "\n",
    "# we load the test data in the temporary variable\n",
    "npz = np.load('Audiobooks_data_test.npz')\n",
    "# we create 2 variables that will contain the test inputs and the test targets\n",
    "test_inputs, test_targets = npz['inputs'].astype(np.float64), npz['targets'].astype(np.int64)"
   ]
  },
  {
   "cell_type": "markdown",
   "metadata": {},
   "source": [
    "### Model\n",
    "Outline, optimizers, loss, early stopping and training"
   ]
  },
  {
   "cell_type": "code",
   "execution_count": 7,
   "metadata": {
    "scrolled": true
   },
   "outputs": [
    {
     "name": "stdout",
     "output_type": "stream",
     "text": [
      "Epoch 1/100\n",
      "36/36 - 1s - 34ms/step - accuracy: 0.6614 - loss: 0.6072 - val_accuracy: 0.8009 - val_loss: 0.4988\n",
      "Epoch 2/100\n",
      "36/36 - 0s - 2ms/step - accuracy: 0.7516 - loss: 0.4827 - val_accuracy: 0.8210 - val_loss: 0.4108\n",
      "Epoch 3/100\n",
      "36/36 - 0s - 2ms/step - accuracy: 0.7740 - loss: 0.4296 - val_accuracy: 0.8121 - val_loss: 0.3757\n",
      "Epoch 4/100\n",
      "36/36 - 0s - 2ms/step - accuracy: 0.7801 - loss: 0.4016 - val_accuracy: 0.8188 - val_loss: 0.3563\n",
      "Epoch 5/100\n",
      "36/36 - 0s - 2ms/step - accuracy: 0.7863 - loss: 0.3851 - val_accuracy: 0.8210 - val_loss: 0.3464\n",
      "Epoch 6/100\n",
      "36/36 - 0s - 2ms/step - accuracy: 0.8033 - loss: 0.3729 - val_accuracy: 0.8166 - val_loss: 0.3342\n",
      "Epoch 7/100\n",
      "36/36 - 0s - 2ms/step - accuracy: 0.8041 - loss: 0.3650 - val_accuracy: 0.8210 - val_loss: 0.3282\n",
      "Epoch 8/100\n",
      "36/36 - 0s - 2ms/step - accuracy: 0.8086 - loss: 0.3578 - val_accuracy: 0.8143 - val_loss: 0.3318\n",
      "Epoch 9/100\n",
      "36/36 - 0s - 2ms/step - accuracy: 0.8150 - loss: 0.3520 - val_accuracy: 0.8098 - val_loss: 0.3252\n",
      "Epoch 10/100\n",
      "36/36 - 0s - 2ms/step - accuracy: 0.8106 - loss: 0.3500 - val_accuracy: 0.8255 - val_loss: 0.3241\n",
      "Epoch 11/100\n",
      "36/36 - 0s - 2ms/step - accuracy: 0.8167 - loss: 0.3464 - val_accuracy: 0.8233 - val_loss: 0.3197\n",
      "Epoch 12/100\n",
      "36/36 - 0s - 2ms/step - accuracy: 0.8139 - loss: 0.3421 - val_accuracy: 0.8255 - val_loss: 0.3171\n",
      "Epoch 13/100\n",
      "36/36 - 0s - 2ms/step - accuracy: 0.8164 - loss: 0.3395 - val_accuracy: 0.8233 - val_loss: 0.3213\n",
      "Epoch 14/100\n",
      "36/36 - 0s - 2ms/step - accuracy: 0.8245 - loss: 0.3344 - val_accuracy: 0.8210 - val_loss: 0.3210\n",
      "Epoch 15/100\n",
      "36/36 - 0s - 2ms/step - accuracy: 0.8136 - loss: 0.3364 - val_accuracy: 0.8233 - val_loss: 0.3161\n",
      "Epoch 16/100\n",
      "36/36 - 0s - 2ms/step - accuracy: 0.8164 - loss: 0.3345 - val_accuracy: 0.8210 - val_loss: 0.3194\n",
      "Epoch 17/100\n",
      "36/36 - 0s - 2ms/step - accuracy: 0.8240 - loss: 0.3303 - val_accuracy: 0.8210 - val_loss: 0.3156\n",
      "Epoch 18/100\n",
      "36/36 - 0s - 2ms/step - accuracy: 0.8164 - loss: 0.3292 - val_accuracy: 0.8255 - val_loss: 0.3239\n",
      "Epoch 19/100\n",
      "36/36 - 0s - 2ms/step - accuracy: 0.8276 - loss: 0.3288 - val_accuracy: 0.8277 - val_loss: 0.3091\n",
      "Epoch 20/100\n",
      "36/36 - 0s - 2ms/step - accuracy: 0.8256 - loss: 0.3249 - val_accuracy: 0.8210 - val_loss: 0.3086\n",
      "Epoch 21/100\n",
      "36/36 - 0s - 2ms/step - accuracy: 0.8164 - loss: 0.3256 - val_accuracy: 0.8322 - val_loss: 0.3170\n",
      "Epoch 22/100\n",
      "36/36 - 0s - 2ms/step - accuracy: 0.8268 - loss: 0.3237 - val_accuracy: 0.8434 - val_loss: 0.3105\n",
      "Epoch 23/100\n",
      "36/36 - 0s - 2ms/step - accuracy: 0.8209 - loss: 0.3234 - val_accuracy: 0.8233 - val_loss: 0.3116\n",
      "Epoch 24/100\n",
      "36/36 - 0s - 2ms/step - accuracy: 0.8270 - loss: 0.3217 - val_accuracy: 0.8322 - val_loss: 0.3129\n"
     ]
    },
    {
     "data": {
      "text/plain": [
       "<keras.src.callbacks.history.History at 0x29bedd42150>"
      ]
     },
     "execution_count": 7,
     "metadata": {},
     "output_type": "execute_result"
    }
   ],
   "source": [
    "# Set the input and output sizes\n",
    "input_size = 10\n",
    "output_size = 2\n",
    "# Use same hidden layer size for both hidden layers. Not a necessity.\n",
    "hidden_layer_size = 50\n",
    "    \n",
    "# define how the model will look like\n",
    "model = tf.keras.Sequential([\n",
    "    # tf.keras.layers.Dense is basically implementing: output = activation(dot(input, weight) + bias)\n",
    "    # it takes several arguments, but the most important ones for us are the hidden_layer_size and the activation function\n",
    "    tf.keras.layers.Dense(hidden_layer_size, activation='relu'), # 1st hidden layer\n",
    "    tf.keras.layers.Dense(hidden_layer_size, activation='relu'), # 2nd hidden layer\n",
    "    # the final layer is no different, we just make sure to activate it with softmax\n",
    "    tf.keras.layers.Dense(output_size, activation='softmax') # output layer\n",
    "])\n",
    "\n",
    "\n",
    "### Choose the optimizer and the loss function\n",
    "\n",
    "# we define the optimizer we'd like to use, \n",
    "# the loss function, \n",
    "# and the metrics we are interested in obtaining at each iteration\n",
    "model.compile(optimizer='adam', loss='sparse_categorical_crossentropy', metrics=['accuracy'])\n",
    "\n",
    "### Training\n",
    "# That's where we train the model we have built.\n",
    "\n",
    "# set the batch size\n",
    "batch_size = 100\n",
    "\n",
    "# set a maximum number of training epochs\n",
    "max_epochs = 100\n",
    "\n",
    "# set an early stopping mechanism\n",
    "# let's set patience=2, to be a bit tolerant against random validation loss increases\n",
    "early_stopping = tf.keras.callbacks.EarlyStopping(patience=4)\n",
    "\n",
    "# fit the model\n",
    "# note that this time the train, validation and test data are not iterable\n",
    "model.fit(train_inputs, # train inputs\n",
    "          train_targets, # train targets\n",
    "          batch_size=batch_size, # batch size\n",
    "          epochs=max_epochs, # epochs that we will train for (assuming early stopping doesn't kick in)\n",
    "          # callbacks are functions called by a task when a task is completed\n",
    "          # task here is to check if val_loss is increasing\n",
    "          callbacks=[early_stopping], # early stopping\n",
    "          validation_data=(validation_inputs, validation_targets), # validation data\n",
    "          verbose = 2 # making sure we get enough information about the training process\n",
    "          )  "
   ]
  },
  {
   "cell_type": "markdown",
   "metadata": {},
   "source": [
    "## Testing "
   ]
  },
  {
   "cell_type": "code",
   "execution_count": 10,
   "metadata": {},
   "outputs": [
    {
     "name": "stdout",
     "output_type": "stream",
     "text": [
      "\u001b[1m14/14\u001b[0m \u001b[32m━━━━━━━━━━━━━━━━━━━━\u001b[0m\u001b[37m\u001b[0m \u001b[1m0s\u001b[0m 1ms/step - accuracy: 0.8347 - loss: 0.3493 \n"
     ]
    }
   ],
   "source": [
    "test_loss,test_accuracy = model.evaluate(test_inputs,test_targets)"
   ]
  },
  {
   "cell_type": "code",
   "execution_count": null,
   "metadata": {},
   "outputs": [],
   "source": []
  }
 ],
 "metadata": {
  "kernelspec": {
   "display_name": "Python 3 (ipykernel)",
   "language": "python",
   "name": "python3"
  },
  "language_info": {
   "codemirror_mode": {
    "name": "ipython",
    "version": 3
   },
   "file_extension": ".py",
   "mimetype": "text/x-python",
   "name": "python",
   "nbconvert_exporter": "python",
   "pygments_lexer": "ipython3",
   "version": "3.12.0"
  }
 },
 "nbformat": 4,
 "nbformat_minor": 4
}
